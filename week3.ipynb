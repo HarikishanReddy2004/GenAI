{
 "cells": [
  {
   "cell_type": "code",
   "execution_count": 1,
   "id": "365aa866",
   "metadata": {},
   "outputs": [],
   "source": [
    "from pymongo import MongoClient"
   ]
  },
  {
   "cell_type": "code",
   "execution_count": 2,
   "id": "bf64e383",
   "metadata": {},
   "outputs": [],
   "source": [
    "client = MongoClient(\"mongodb://localhost:27017/\")\n",
    "db = client[\"customer_db\"]"
   ]
  },
  {
   "cell_type": "code",
   "execution_count": 3,
   "id": "64925ad2",
   "metadata": {},
   "outputs": [],
   "source": [
    "collections = {\n",
    "    \"request\": db[\"request\"],\n",
    "    \"error\": db[\"error\"],\n",
    "    \"reject\": db[\"reject\"],\n",
    "    \"response\": db[\"response\"],\n",
    "}"
   ]
  },
  {
   "cell_type": "code",
   "execution_count": 4,
   "id": "ab2a01ac",
   "metadata": {},
   "outputs": [
    {
     "data": {
      "text/plain": [
       "{'request': Collection(Database(MongoClient(host=['localhost:27017'], document_class=dict, tz_aware=False, connect=True), 'customer_db'), 'request'),\n",
       " 'error': Collection(Database(MongoClient(host=['localhost:27017'], document_class=dict, tz_aware=False, connect=True), 'customer_db'), 'error'),\n",
       " 'reject': Collection(Database(MongoClient(host=['localhost:27017'], document_class=dict, tz_aware=False, connect=True), 'customer_db'), 'reject'),\n",
       " 'response': Collection(Database(MongoClient(host=['localhost:27017'], document_class=dict, tz_aware=False, connect=True), 'customer_db'), 'response')}"
      ]
     },
     "execution_count": 4,
     "metadata": {},
     "output_type": "execute_result"
    }
   ],
   "source": [
    "collections"
   ]
  },
  {
   "cell_type": "code",
   "execution_count": 5,
   "id": "a36bcab3",
   "metadata": {},
   "outputs": [],
   "source": [
    "import json\n",
    "data = {}\n",
    "for collection_name in db.list_collection_names():\n",
    "    collection = db[collection_name]\n",
    "    documents = list(collection.find({}, {\"_id\": 0}))  # Exclude _id field if not needed\n",
    "    data[collection_name] = documents\n",
    "\n",
    "# Convert to JSON format (optional)\n",
    "json_data = json.dumps(data, indent=4)\n",
    "\n"
   ]
  },
  {
   "cell_type": "code",
   "execution_count": 6,
   "id": "777858ce",
   "metadata": {},
   "outputs": [
    {
     "name": "stdout",
     "output_type": "stream",
     "text": [
      "('{\\n'\n",
      " '    \"response\": [\\n'\n",
      " '        {\\n'\n",
      " '            \"cusno\": 1,\\n'\n",
      " '            \"name\": \"Alice\",\\n'\n",
      " '            \"cusid\": \"CUST001\"\\n'\n",
      " '        },\\n'\n",
      " '        {\\n'\n",
      " '            \"cusno\": 3,\\n'\n",
      " '            \"name\": \"Charlie\",\\n'\n",
      " '            \"cusid\": \"CUST003\"\\n'\n",
      " '        },\\n'\n",
      " '        {\\n'\n",
      " '            \"cusno\": 5,\\n'\n",
      " '            \"name\": \"Eve\",\\n'\n",
      " '            \"cusid\": \"CUST005\"\\n'\n",
      " '        }\\n'\n",
      " '    ],\\n'\n",
      " '    \"reject\": [\\n'\n",
      " '        {\\n'\n",
      " '            \"cusno\": 2,\\n'\n",
      " '            \"name\": \"Bob\",\\n'\n",
      " '            \"cusid\": \"CUST002\"\\n'\n",
      " '        },\\n'\n",
      " '        {\\n'\n",
      " '            \"cusno\": 4,\\n'\n",
      " '            \"name\": \"David\",\\n'\n",
      " '            \"cusid\": \"CUST004\"\\n'\n",
      " '        }\\n'\n",
      " '    ],\\n'\n",
      " '    \"request\": [\\n'\n",
      " '        {\\n'\n",
      " '            \"cusno\": 6,\\n'\n",
      " '            \"name\": \"Frank\",\\n'\n",
      " '            \"cusid\": \"CUST006\"\\n'\n",
      " '        },\\n'\n",
      " '        {\\n'\n",
      " '            \"cusno\": 7,\\n'\n",
      " '            \"name\": \"Grace\",\\n'\n",
      " '            \"cusid\": \"CUST007\"\\n'\n",
      " '        }\\n'\n",
      " '    ],\\n'\n",
      " '    \"error\": [\\n'\n",
      " '        {\\n'\n",
      " '            \"cusno\": 0,\\n'\n",
      " '            \"name\": \"Eve\",\\n'\n",
      " '            \"cusid\": \"CUST002\"\\n'\n",
      " '        },\\n'\n",
      " '        {\\n'\n",
      " '            \"cusno\": 0,\\n'\n",
      " '            \"name\": \"John\",\\n'\n",
      " '            \"cusid\": \"CUST004\"\\n'\n",
      " '        },\\n'\n",
      " '        {\\n'\n",
      " '            \"cusno\": 0,\\n'\n",
      " '            \"name\": \"Henry\",\\n'\n",
      " '            \"cusid\": \"CUST008\"\\n'\n",
      " '        }\\n'\n",
      " '    ]\\n'\n",
      " '}')\n"
     ]
    }
   ],
   "source": [
    "from pprint import pprint\n",
    "pprint(json_data)"
   ]
  },
  {
   "cell_type": "code",
   "execution_count": 7,
   "id": "c55fcd42",
   "metadata": {},
   "outputs": [
    {
     "data": {
      "text/plain": [
       "1137"
      ]
     },
     "execution_count": 7,
     "metadata": {},
     "output_type": "execute_result"
    }
   ],
   "source": [
    "len(json_data)"
   ]
  },
  {
   "cell_type": "code",
   "execution_count": 8,
   "id": "bc1004d9",
   "metadata": {},
   "outputs": [
    {
     "name": "stdout",
     "output_type": "stream",
     "text": [
      "4\n"
     ]
    }
   ],
   "source": [
    "data=json.loads(json_data)\n",
    "print(len(data))"
   ]
  },
  {
   "cell_type": "code",
   "execution_count": 9,
   "id": "27b1aa6c",
   "metadata": {},
   "outputs": [
    {
     "name": "stdout",
     "output_type": "stream",
     "text": [
      "{'response': [{'cusno': 1, 'name': 'Alice', 'cusid': 'CUST001'}, {'cusno': 3, 'name': 'Charlie', 'cusid': 'CUST003'}, {'cusno': 5, 'name': 'Eve', 'cusid': 'CUST005'}], 'reject': [{'cusno': 2, 'name': 'Bob', 'cusid': 'CUST002'}, {'cusno': 4, 'name': 'David', 'cusid': 'CUST004'}], 'request': [{'cusno': 6, 'name': 'Frank', 'cusid': 'CUST006'}, {'cusno': 7, 'name': 'Grace', 'cusid': 'CUST007'}], 'error': [{'cusno': 0, 'name': 'Eve', 'cusid': 'CUST002'}, {'cusno': 0, 'name': 'John', 'cusid': 'CUST004'}, {'cusno': 0, 'name': 'Henry', 'cusid': 'CUST008'}]}\n"
     ]
    }
   ],
   "source": [
    "print(data)"
   ]
  },
  {
   "cell_type": "code",
   "execution_count": 10,
   "id": "11243180",
   "metadata": {},
   "outputs": [],
   "source": [
    "# from langchain.text_splitter import RecursiveCharacterTextSplitter\n",
    "# text_splitter=RecursiveCharacterTextSplitter(chunk_size=200)\n",
    "# data=text_splitter.split_text(json_data)\n",
    "# print(len(data))"
   ]
  },
  {
   "cell_type": "code",
   "execution_count": 11,
   "id": "0a342592",
   "metadata": {},
   "outputs": [
    {
     "name": "stderr",
     "output_type": "stream",
     "text": [
      "C:\\Users\\T. HARIKISHAN REDDY\\AppData\\Local\\Temp\\ipykernel_12576\\3087897998.py:2: LangChainDeprecationWarning: The class `HuggingFaceEmbeddings` was deprecated in LangChain 0.2.2 and will be removed in 1.0. An updated version of the class exists in the :class:`~langchain-huggingface package and should be used instead. To use it run `pip install -U :class:`~langchain-huggingface` and import as `from :class:`~langchain_huggingface import HuggingFaceEmbeddings``.\n",
      "  embeddings=HuggingFaceEmbeddings(model_name=\"sentence-transformers/all-MiniLM-L6-v2\")\n"
     ]
    },
    {
     "name": "stdout",
     "output_type": "stream",
     "text": [
      "WARNING:tensorflow:From C:\\Users\\T. HARIKISHAN REDDY\\anaconda3\\Lib\\site-packages\\keras\\src\\losses.py:2976: The name tf.losses.sparse_softmax_cross_entropy is deprecated. Please use tf.compat.v1.losses.sparse_softmax_cross_entropy instead.\n",
      "\n"
     ]
    }
   ],
   "source": [
    "from langchain_community.embeddings import HuggingFaceEmbeddings\n",
    "embeddings=HuggingFaceEmbeddings(model_name=\"sentence-transformers/all-MiniLM-L6-v2\")\n",
    "\n",
    "# vector=embeddings.embed_query(\"hello world\")\n",
    "# vector[:5]"
   ]
  },
  {
   "cell_type": "code",
   "execution_count": null,
   "id": "c9dac18b",
   "metadata": {},
   "outputs": [],
   "source": [
    "# parsed_data = json.loads(json_data)\n",
    "\n",
    "# # Convert JSON data into LangChain Document objects\n",
    "# documents = []\n",
    "# for category, records in parsed_data.items():\n",
    "#     for record in records:\n",
    "#         # Structured metadata\n",
    "#         metadata = {\n",
    "#             \"category\": category,\n",
    "#             \"customer\": record[\"name\"],\n",
    "#             \"customer_id\": record[\"cusid\"],\n",
    "#             \"customer_no\": record[\"cusno\"]\n",
    "#         }\n",
    "\n",
    "#         # Natural language representation\n",
    "#         page_content = (\n",
    "#             f\"Customer {record['name']} ({record['cusid']}) is in category '{category}' \"\n",
    "#             f\"with customer number {record['cusno']}.\"\n",
    "#         )\n",
    "\n",
    "#         doc = Document(page_content=page_content, metadata=metadata)\n",
    "#         documents.append(doc)\n",
    "\n",
    "# # Output\n",
    "# documents"
   ]
  },
  {
   "cell_type": "code",
   "execution_count": 12,
   "id": "220bd862",
   "metadata": {},
   "outputs": [
    {
     "data": {
      "text/plain": [
       "[Document(metadata={'category': 'response'}, page_content='Category: response, Customer: Alice, ID: CUST001, No: 1'),\n",
       " Document(metadata={'category': 'response'}, page_content='Category: response, Customer: Charlie, ID: CUST003, No: 3'),\n",
       " Document(metadata={'category': 'response'}, page_content='Category: response, Customer: Eve, ID: CUST005, No: 5'),\n",
       " Document(metadata={'category': 'reject'}, page_content='Category: reject, Customer: Bob, ID: CUST002, No: 2'),\n",
       " Document(metadata={'category': 'reject'}, page_content='Category: reject, Customer: David, ID: CUST004, No: 4'),\n",
       " Document(metadata={'category': 'request'}, page_content='Category: request, Customer: Frank, ID: CUST006, No: 6'),\n",
       " Document(metadata={'category': 'request'}, page_content='Category: request, Customer: Grace, ID: CUST007, No: 7'),\n",
       " Document(metadata={'category': 'error'}, page_content='Category: error, Customer: Eve, ID: CUST002, No: 0'),\n",
       " Document(metadata={'category': 'error'}, page_content='Category: error, Customer: John, ID: CUST004, No: 0'),\n",
       " Document(metadata={'category': 'error'}, page_content='Category: error, Customer: Henry, ID: CUST008, No: 0')]"
      ]
     },
     "execution_count": 12,
     "metadata": {},
     "output_type": "execute_result"
    }
   ],
   "source": [
    "from langchain.schema import Document\n",
    "# Parse JSON\n",
    "parsed_data = json.loads(json_data)\n",
    "\n",
    "# Convert JSON data into LangChain Document objects\n",
    "documents = []\n",
    "for category, records in parsed_data.items():\n",
    "    for record in records:\n",
    "        text = f\"Category: {category}, Customer: {record['name']}, ID: {record['cusid']}, No: {record['cusno']}\"\n",
    "        doc = Document(page_content=text, metadata={\"category\": category})\n",
    "        documents.append(doc)\n",
    "\n",
    "documents"
   ]
  },
  {
   "cell_type": "code",
   "execution_count": 13,
   "id": "cd71614a",
   "metadata": {},
   "outputs": [],
   "source": [
    "from langchain.vectorstores import FAISS\n",
    "from langchain.embeddings.huggingface import HuggingFaceEmbeddings\n",
    "\n",
    "# Initialize Hugging Face Embeddings\n",
    "# embedding_model = HuggingFaceEmbeddings(model_name=\"sentence-transformers/all-MiniLM-L6-v2\")\n",
    "\n",
    "# Create FAISS Vector Store\n",
    "vectorstore = FAISS.from_documents(documents, embeddings)\n"
   ]
  },
  {
   "cell_type": "code",
   "execution_count": 46,
   "id": "0fc4df96",
   "metadata": {},
   "outputs": [
    {
     "data": {
      "text/plain": [
       "<langchain_community.vectorstores.faiss.FAISS at 0x2084348b590>"
      ]
     },
     "execution_count": 46,
     "metadata": {},
     "output_type": "execute_result"
    }
   ],
   "source": [
    "vectorstore"
   ]
  },
  {
   "cell_type": "code",
   "execution_count": 24,
   "id": "9d9ce347",
   "metadata": {},
   "outputs": [],
   "source": [
    "retriever = vectorstore.as_retriever(search_type=\"similarity\", search_kwargs={\"k\": 5})\n",
    "\n",
    "# query = \"how many  customers got rejected?\"\n",
    "# retrieved_docs = retriever.invoke(query)  # Using invoke() instead of get_relevant_documents()\n",
    "\n",
    "# # Print retrieved documents\n",
    "# for doc in retrieved_docs:\n",
    "#     print(doc.page_content)\n"
   ]
  },
  {
   "cell_type": "code",
   "execution_count": 15,
   "id": "6a092da5",
   "metadata": {},
   "outputs": [
    {
     "name": "stdout",
     "output_type": "stream",
     "text": [
      "Category: reject, Customer: David, ID: CUST004, No: 4\n",
      "Category: reject, Customer: Bob, ID: CUST002, No: 2\n"
     ]
    }
   ],
   "source": [
    "print(retrieved_docs[0].page_content)\n",
    "print(retrieved_docs[1].page_content)"
   ]
  },
  {
   "cell_type": "code",
   "execution_count": 16,
   "id": "5c830efe",
   "metadata": {},
   "outputs": [],
   "source": [
    "from transformers import pipeline\n",
    "from langchain_core.output_parsers import StrOutputParser\n",
    "import torch\n",
    "from transformers import AutoModelForCausalLM, AutoTokenizer"
   ]
  },
  {
   "cell_type": "code",
   "execution_count": 19,
   "id": "40e4278b",
   "metadata": {},
   "outputs": [],
   "source": [
    "from langchain.llms import HuggingFacePipeline"
   ]
  },
  {
   "cell_type": "code",
   "execution_count": 55,
   "id": "34aea657",
   "metadata": {},
   "outputs": [
    {
     "data": {
      "application/vnd.jupyter.widget-view+json": {
       "model_id": "a4698e6d6ab74571ab15c95ec0f63efd",
       "version_major": 2,
       "version_minor": 0
      },
      "text/plain": [
       "config.json:   0%|          | 0.00/1.40k [00:00<?, ?B/s]"
      ]
     },
     "metadata": {},
     "output_type": "display_data"
    },
    {
     "name": "stderr",
     "output_type": "stream",
     "text": [
      "C:\\Users\\T. HARIKISHAN REDDY\\anaconda3\\Lib\\site-packages\\huggingface_hub\\file_download.py:140: UserWarning: `huggingface_hub` cache-system uses symlinks by default to efficiently store duplicated files but your machine does not support them in C:\\Users\\T. HARIKISHAN REDDY\\.cache\\huggingface\\hub\\models--google--flan-t5-base. Caching files will still work but in a degraded version that might require more space on your disk. This warning can be disabled by setting the `HF_HUB_DISABLE_SYMLINKS_WARNING` environment variable. For more details, see https://huggingface.co/docs/huggingface_hub/how-to-cache#limitations.\n",
      "To support symlinks on Windows, you either need to activate Developer Mode or to run Python as an administrator. In order to activate developer mode, see this article: https://docs.microsoft.com/en-us/windows/apps/get-started/enable-your-device-for-development\n",
      "  warnings.warn(message)\n"
     ]
    },
    {
     "data": {
      "application/vnd.jupyter.widget-view+json": {
       "model_id": "07db66b7788141a6b01aca1f17294d8c",
       "version_major": 2,
       "version_minor": 0
      },
      "text/plain": [
       "model.safetensors:   0%|          | 0.00/990M [00:00<?, ?B/s]"
      ]
     },
     "metadata": {},
     "output_type": "display_data"
    },
    {
     "data": {
      "application/vnd.jupyter.widget-view+json": {
       "model_id": "c66a7a11d7294103ad2ab5563612c47e",
       "version_major": 2,
       "version_minor": 0
      },
      "text/plain": [
       "generation_config.json:   0%|          | 0.00/147 [00:00<?, ?B/s]"
      ]
     },
     "metadata": {},
     "output_type": "display_data"
    },
    {
     "data": {
      "application/vnd.jupyter.widget-view+json": {
       "model_id": "8f64df92aaf64e4c971dde50932ee0d5",
       "version_major": 2,
       "version_minor": 0
      },
      "text/plain": [
       "tokenizer_config.json:   0%|          | 0.00/2.54k [00:00<?, ?B/s]"
      ]
     },
     "metadata": {},
     "output_type": "display_data"
    },
    {
     "data": {
      "application/vnd.jupyter.widget-view+json": {
       "model_id": "6643c9ea947a4067b50c073363e87a4c",
       "version_major": 2,
       "version_minor": 0
      },
      "text/plain": [
       "spiece.model:   0%|          | 0.00/792k [00:00<?, ?B/s]"
      ]
     },
     "metadata": {},
     "output_type": "display_data"
    },
    {
     "data": {
      "application/vnd.jupyter.widget-view+json": {
       "model_id": "d3a0f39f61704afdb097015b8cb1f68e",
       "version_major": 2,
       "version_minor": 0
      },
      "text/plain": [
       "tokenizer.json:   0%|          | 0.00/2.42M [00:00<?, ?B/s]"
      ]
     },
     "metadata": {},
     "output_type": "display_data"
    },
    {
     "data": {
      "application/vnd.jupyter.widget-view+json": {
       "model_id": "2d1d2f11847d49f5bbdb0922db1e860a",
       "version_major": 2,
       "version_minor": 0
      },
      "text/plain": [
       "special_tokens_map.json:   0%|          | 0.00/2.20k [00:00<?, ?B/s]"
      ]
     },
     "metadata": {},
     "output_type": "display_data"
    },
    {
     "name": "stderr",
     "output_type": "stream",
     "text": [
      "Device set to use cpu\n"
     ]
    }
   ],
   "source": [
    "# Use Flan-T5-Small for text generation\n",
    "model_id = \"google/flan-t5-base\"\n",
    "\n",
    "text_generation_pipeline = pipeline(\n",
    "    \"text2text-generation\",\n",
    "    model=model_id,\n",
    "    max_new_tokens=400\n",
    ")\n",
    "\n",
    "llm = HuggingFacePipeline(pipeline=text_generation_pipeline)\n",
    "prompt_template=\"\"\"\n",
    "<|system|>\n",
    "You are an AI assistant who analyze json text data . Your goal is to analyze the provided context and generate insightful responses in natural language. Answer concisely and accurately using only the relevant information from the question.\n",
    "\n",
    "{context}\n",
    "\n",
    "{question}\n",
    "\n",
    "Below are the instructions.\n",
    "- Use only the provided context to answer.\n",
    "- Provide clear, structured, and concise responses.\n",
    "\n",
    "\"\"\"\n"
   ]
  },
  {
   "cell_type": "code",
   "execution_count": 56,
   "id": "217cea85",
   "metadata": {},
   "outputs": [],
   "source": [
    "from langchain.prompts import PromptTemplate\n",
    "prompt = PromptTemplate(\n",
    "    input_variables=[\"context\", \"question\"],\n",
    "    template=prompt_template,\n",
    ")\n",
    "\n",
    "llm_chain = prompt | llm | StrOutputParser()"
   ]
  },
  {
   "cell_type": "code",
   "execution_count": 57,
   "id": "d52e6c8c",
   "metadata": {},
   "outputs": [
    {
     "data": {
      "text/plain": [
       "'Use only the provided context to answer.'"
      ]
     },
     "execution_count": 57,
     "metadata": {},
     "output_type": "execute_result"
    }
   ],
   "source": [
    "from langchain_core.runnables import RunnablePassthrough\n",
    "\n",
    "rag_chain = {\"context\": retriever, \"question\": RunnablePassthrough()} | llm_chain\n",
    "question = \"list all the customer data in response collection\"\n",
    "\n",
    "rag_chain.invoke(question)"
   ]
  },
  {
   "cell_type": "code",
   "execution_count": 54,
   "id": "7b43e0ac",
   "metadata": {},
   "outputs": [
    {
     "name": "stdout",
     "output_type": "stream",
     "text": [
      "Category: response, Customer: Alice, ID: CUST001, No: 1\n",
      "Category: response, Customer: Eve, ID: CUST005, No: 5\n",
      "Category: response, Customer: Charlie, ID: CUST003, No: 3\n",
      "Category: request, Customer: Grace, ID: CUST007, No: 7\n",
      "Category: request, Customer: Frank, ID: CUST006, No: 6\n"
     ]
    }
   ],
   "source": [
    "query = \"list all the customer data in response collection\"\n",
    "retrieved_docs = retriever.invoke(query)  # Using invoke() instead of get_relevant_documents()\n",
    "\n",
    "# Print retrieved documents\n",
    "for doc in retrieved_docs:\n",
    "    print(doc.page_content)"
   ]
  },
  {
   "cell_type": "code",
   "execution_count": null,
   "id": "0a622984",
   "metadata": {},
   "outputs": [],
   "source": []
  }
 ],
 "metadata": {
  "kernelspec": {
   "display_name": "Python 3 (ipykernel)",
   "language": "python",
   "name": "python3"
  },
  "language_info": {
   "codemirror_mode": {
    "name": "ipython",
    "version": 3
   },
   "file_extension": ".py",
   "mimetype": "text/x-python",
   "name": "python",
   "nbconvert_exporter": "python",
   "pygments_lexer": "ipython3",
   "version": "3.11.3"
  }
 },
 "nbformat": 4,
 "nbformat_minor": 5
}
